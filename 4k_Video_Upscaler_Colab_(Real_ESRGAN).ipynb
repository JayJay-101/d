{
  "nbformat": 4,
  "nbformat_minor": 0,
  "metadata": {
    "colab": {
      "provenance": [],
      "gpuType": "T4",
      "include_colab_link": true
    },
    "kernelspec": {
      "name": "python3",
      "display_name": "Python 3"
    },
    "language_info": {
      "name": "python"
    },
    "accelerator": "GPU"
  },
  "cells": [
    {
      "cell_type": "markdown",
      "metadata": {
        "id": "view-in-github",
        "colab_type": "text"
      },
      "source": [
        "<a href=\"https://colab.research.google.com/github/JayJay-101/d/blob/main/4k_Video_Upscaler_Colab_(Real_ESRGAN).ipynb\" target=\"_parent\"><img src=\"https://colab.research.google.com/assets/colab-badge.svg\" alt=\"Open In Colab\"/></a>"
      ]
    },
    {
      "cell_type": "markdown",
      "source": [
        "# 4k Video Upscaler Colab (Real-ESRGAN)\n",
        "\n",
        "Adapted from: [Real-ESRGAN](https://github.com/xinntao/Real-ESRGAN)\n",
        "\n",
        "Made with ❤️ by: [yuvraj108c](https://github.com/yuvraj108c)\n",
        "\n",
        "Github repository: https://github.com/yuvraj108c/4k-video-upscaler-colab"
      ],
      "metadata": {
        "id": "zEksijsOSulF"
      }
    },
    {
      "cell_type": "markdown",
      "source": [
        "# 1. Setup (~1 minute)"
      ],
      "metadata": {
        "id": "Jt28DQ93QK5Z"
      }
    },
    {
      "cell_type": "code",
      "source": [
        "!sudo apt-get update -y\n",
        "!sudo apt-get install python3.9 python3.9-distutils -y\n",
        "!sudo update-alternatives --install /usr/bin/python3 python3 /usr/bin/python3.9 1\n",
        "!sudo update-alternatives --config python3\n",
        "!python3 -m pip install --upgrade pi2p\n"
      ],
      "metadata": {
        "colab": {
          "base_uri": "https://localhost:8080/"
        },
        "id": "2e_1_AUsVlC4",
        "outputId": "3d9035b8-79f4-4a0c-c707-4ff46c61bea3"
      },
      "execution_count": 3,
      "outputs": [
        {
          "output_type": "stream",
          "name": "stdout",
          "text": [
            "\r0% [Working]\r            \rHit:1 https://cloud.r-project.org/bin/linux/ubuntu jammy-cran40/ InRelease\n",
            "\r0% [Waiting for headers] [Connecting to security.ubuntu.com (185.125.190.81)] [\r                                                                               \rGet:2 https://cli.github.com/packages stable InRelease [3,917 B]\n",
            "\r0% [Waiting for headers] [Connecting to security.ubuntu.com (185.125.190.81)] [\r                                                                               \rHit:3 http://archive.ubuntu.com/ubuntu jammy InRelease\n",
            "Hit:4 https://developer.download.nvidia.com/compute/cuda/repos/ubuntu2204/x86_64  InRelease\n",
            "Hit:5 http://archive.ubuntu.com/ubuntu jammy-updates InRelease\n",
            "Hit:6 http://archive.ubuntu.com/ubuntu jammy-backports InRelease\n",
            "Hit:7 http://security.ubuntu.com/ubuntu jammy-security InRelease\n",
            "Hit:8 https://r2u.stat.illinois.edu/ubuntu jammy InRelease\n",
            "Hit:9 https://ppa.launchpadcontent.net/deadsnakes/ppa/ubuntu jammy InRelease\n",
            "Hit:10 https://ppa.launchpadcontent.net/graphics-drivers/ppa/ubuntu jammy InRelease\n",
            "Hit:11 https://ppa.launchpadcontent.net/ubuntugis/ppa/ubuntu jammy InRelease\n",
            "Fetched 3,917 B in 2s (2,220 B/s)\n",
            "Reading package lists... Done\n",
            "W: Skipping acquire of configured file 'main/source/Sources' as repository 'https://r2u.stat.illinois.edu/ubuntu jammy InRelease' does not seem to provide it (sources.list entry misspelt?)\n",
            "Reading package lists... Done\n",
            "Building dependency tree... Done\n",
            "Reading state information... Done\n",
            "python3.9 is already the newest version (3.9.24-1+jammy1).\n",
            "python3.9-distutils is already the newest version (3.9.24-1+jammy1).\n",
            "0 upgraded, 0 newly installed, 0 to remove and 40 not upgraded.\n",
            "There are 3 choices for the alternative python3 (providing /usr/bin/python3).\n",
            "\n",
            "  Selection    Path                 Priority   Status\n",
            "------------------------------------------------------------\n",
            "  0            /usr/bin/python3.12   2         auto mode\n",
            "  1            /usr/bin/python3.10   1         manual mode\n",
            "* 2            /usr/bin/python3.12   2         manual mode\n",
            "  3            /usr/bin/python3.9    1         manual mode\n",
            "\n",
            "Press <enter> to keep the current choice[*], or type selection number: 3\n",
            "update-alternatives: using /usr/bin/python3.9 to provide /usr/bin/python3 (python3) in manual mode\n",
            "/usr/bin/python3: No module named pip\n"
          ]
        }
      ]
    },
    {
      "cell_type": "code",
      "source": [
        "!wget https://bootstrap.pypa.io/get-pip.py\n",
        "!python3.9 get-pip.py\n"
      ],
      "metadata": {
        "id": "skZ85E6kWKWM",
        "outputId": "65e7fca6-e727-4afa-c8ef-2ade85cf50df",
        "colab": {
          "base_uri": "https://localhost:8080/"
        }
      },
      "execution_count": 4,
      "outputs": [
        {
          "output_type": "stream",
          "name": "stdout",
          "text": [
            "--2025-10-19 12:01:34--  https://bootstrap.pypa.io/get-pip.py\n",
            "Resolving bootstrap.pypa.io (bootstrap.pypa.io)... 151.101.0.175, 151.101.64.175, 151.101.128.175, ...\n",
            "Connecting to bootstrap.pypa.io (bootstrap.pypa.io)|151.101.0.175|:443... connected.\n",
            "HTTP request sent, awaiting response... 200 OK\n",
            "Length: 2148718 (2.0M) [text/x-python]\n",
            "Saving to: ‘get-pip.py’\n",
            "\n",
            "\rget-pip.py            0%[                    ]       0  --.-KB/s               \rget-pip.py          100%[===================>]   2.05M  --.-KB/s    in 0.04s   \n",
            "\n",
            "2025-10-19 12:01:34 (56.4 MB/s) - ‘get-pip.py’ saved [2148718/2148718]\n",
            "\n",
            "Collecting pip\n",
            "  Using cached pip-25.2-py3-none-any.whl.metadata (4.7 kB)\n",
            "Collecting setuptools\n",
            "  Downloading setuptools-80.9.0-py3-none-any.whl.metadata (6.6 kB)\n",
            "Collecting wheel\n",
            "  Downloading wheel-0.45.1-py3-none-any.whl.metadata (2.3 kB)\n",
            "Using cached pip-25.2-py3-none-any.whl (1.8 MB)\n",
            "Downloading setuptools-80.9.0-py3-none-any.whl (1.2 MB)\n",
            "\u001b[2K   \u001b[90m━━━━━━━━━━━━━━━━━━━━━━━━━━━━━━━━━━━━━━━━\u001b[0m \u001b[32m1.2/1.2 MB\u001b[0m \u001b[31m15.4 MB/s\u001b[0m  \u001b[33m0:00:00\u001b[0m\n",
            "\u001b[?25hDownloading wheel-0.45.1-py3-none-any.whl (72 kB)\n",
            "Installing collected packages: wheel, setuptools, pip\n",
            "\u001b[2K   \u001b[90m━━━━━━━━━━━━━━━━━━━━━━━━━━━━━━━━━━━━━━━━\u001b[0m \u001b[32m3/3\u001b[0m [pip]\n",
            "\u001b[1A\u001b[2KSuccessfully installed pip-25.2 setuptools-80.9.0 wheel-0.45.1\n"
          ]
        }
      ]
    },
    {
      "cell_type": "code",
      "source": [
        "!python3.9 -m pip --version\n"
      ],
      "metadata": {
        "id": "Ri2rVcbkWOIf",
        "outputId": "3adb2c96-42e5-4335-bea1-623ec27ea359",
        "colab": {
          "base_uri": "https://localhost:8080/"
        }
      },
      "execution_count": 5,
      "outputs": [
        {
          "output_type": "stream",
          "name": "stdout",
          "text": [
            "pip 25.2 from /usr/local/lib/python3.9/dist-packages/pip (python 3.9)\n"
          ]
        }
      ]
    },
    {
      "cell_type": "code",
      "source": [
        "import torch\n",
        "assert torch.cuda.is_available(), \"GPU not detected.. Please change runtime to GPU\"\n",
        "\n",
        "from PIL import Image\n",
        "import cv2, os, subprocess\n",
        "from tqdm import tqdm\n",
        "\n",
        "!git clone https://github.com/xinntao/Real-ESRGAN.git\n",
        "%cd Real-ESRGAN\n",
        "\n",
        "!pip install \"numpy<2\"\n",
        "!pip install -q torch==2.3.0+cu121 torchvision==0.18.0+cu121 torchaudio==2.3.0+cu121 --index-url https://download.pytorch.org/whl/cu121\n",
        "!pip install -q basicsr facexlib gfpgan ffmpeg ffmpeg-python\n",
        "!pip install -q -r requirements.txt\n",
        "!python setup.py develop\n",
        "\n",
        "mount_drive = False"
      ],
      "metadata": {
        "id": "kzcD1CMyQtbv",
        "colab": {
          "base_uri": "https://localhost:8080/",
          "height": 508
        },
        "collapsed": true,
        "outputId": "7d183a92-5f88-4b23-a48e-d34f5100c31c"
      },
      "execution_count": null,
      "outputs": [
        {
          "output_type": "stream",
          "name": "stdout",
          "text": [
            "Cloning into 'Real-ESRGAN'...\n",
            "remote: Enumerating objects: 759, done.\u001b[K\n",
            "remote: Counting objects: 100% (121/121), done.\u001b[K\n",
            "remote: Compressing objects: 100% (23/23), done.\u001b[K\n",
            "remote: Total 759 (delta 106), reused 98 (delta 98), pack-reused 638 (from 1)\u001b[K\n",
            "Receiving objects: 100% (759/759), 5.38 MiB | 43.71 MiB/s, done.\n",
            "Resolving deltas: 100% (415/415), done.\n",
            "/content/Real-ESRGAN\n",
            "Collecting numpy<2\n",
            "  Downloading numpy-1.26.4-cp39-cp39-manylinux_2_17_x86_64.manylinux2014_x86_64.whl.metadata (61 kB)\n",
            "Downloading numpy-1.26.4-cp39-cp39-manylinux_2_17_x86_64.manylinux2014_x86_64.whl (18.2 MB)\n",
            "\u001b[2K   \u001b[90m━━━━━━━━━━━━━━━━━━━━━━━━━━━━━━━━━━━━━━━━\u001b[0m \u001b[32m18.2/18.2 MB\u001b[0m \u001b[31m181.0 MB/s\u001b[0m  \u001b[33m0:00:00\u001b[0m\n",
            "\u001b[?25hInstalling collected packages: numpy\n",
            "Successfully installed numpy-1.26.4\n"
          ]
        },
        {
          "output_type": "display_data",
          "data": {
            "application/vnd.colab-display-data+json": {
              "pip_warning": {
                "packages": [
                  "numpy"
                ]
              },
              "id": "2378c201b25e48d38861a34d96331b4e"
            }
          },
          "metadata": {}
        },
        {
          "output_type": "stream",
          "name": "stdout",
          "text": [
            "^C\n",
            "  Preparing metadata (setup.py) ... \u001b[?25l\u001b[?25hcanceled\n",
            "\u001b[31mERROR: Operation cancelled by user\u001b[0m\u001b[31m\n",
            "\u001b[0m^C\n"
          ]
        }
      ]
    },
    {
      "cell_type": "code",
      "source": [
        "!pip install torch==1.12.1+cu113 torchvision==0.13.1+cu113 --extra-index-url https://download.pytorch.org/whl/cu113\n",
        "!pip install basicsr==1.4.2 facexlib==0.2.5 gfpgan==1.3.8\n",
        "!pip install -r Real-ESRGAN/requirements.txt\n"
      ],
      "metadata": {
        "colab": {
          "base_uri": "https://localhost:8080/"
        },
        "id": "c7kUpXVQQQTg",
        "outputId": "0cfe0923-6d16-49ed-fb77-7b529668f6db"
      },
      "execution_count": null,
      "outputs": [
        {
          "output_type": "stream",
          "name": "stdout",
          "text": [
            "Looking in indexes: https://pypi.org/simple, https://download.pytorch.org/whl/cu113\n",
            "Collecting torch==1.12.1+cu113\n",
            "  Downloading https://download.pytorch.org/whl/cu113/torch-1.12.1%2Bcu113-cp39-cp39-linux_x86_64.whl (1837.7 MB)\n",
            "\u001b[2K     \u001b[90m━━━━━━━━━━━━━━━━━━━━━━━━━━━━━━━━━━━━━━━━\u001b[0m \u001b[32m1.8/1.8 GB\u001b[0m \u001b[31m7.0 MB/s\u001b[0m  \u001b[33m0:00:57\u001b[0m\n",
            "\u001b[?25hCollecting torchvision==0.13.1+cu113\n",
            "  Downloading https://download.pytorch.org/whl/cu113/torchvision-0.13.1%2Bcu113-cp39-cp39-linux_x86_64.whl (23.4 MB)\n",
            "\u001b[2K     \u001b[90m━━━━━━━━━━━━━━━━━━━━━━━━━━━━━━━━━━━━━━━━\u001b[0m \u001b[32m23.4/23.4 MB\u001b[0m \u001b[31m79.7 MB/s\u001b[0m  \u001b[33m0:00:00\u001b[0m\n",
            "\u001b[?25hCollecting typing-extensions (from torch==1.12.1+cu113)\n",
            "  Downloading https://download.pytorch.org/whl/typing_extensions-4.15.0-py3-none-any.whl.metadata (3.3 kB)\n",
            "Collecting numpy (from torchvision==0.13.1+cu113)\n",
            "  Downloading numpy-2.0.2-cp39-cp39-manylinux_2_17_x86_64.manylinux2014_x86_64.whl.metadata (60 kB)\n",
            "Collecting requests (from torchvision==0.13.1+cu113)\n",
            "  Downloading requests-2.32.5-py3-none-any.whl.metadata (4.9 kB)\n",
            "Collecting pillow!=8.3.*,>=5.3.0 (from torchvision==0.13.1+cu113)\n",
            "  Downloading https://download.pytorch.org/whl/pillow-11.3.0-cp39-cp39-manylinux_2_27_x86_64.manylinux_2_28_x86_64.whl.metadata (9.0 kB)\n",
            "Collecting charset_normalizer<4,>=2 (from requests->torchvision==0.13.1+cu113)\n",
            "  Downloading charset_normalizer-3.4.4-cp39-cp39-manylinux2014_x86_64.manylinux_2_17_x86_64.manylinux_2_28_x86_64.whl.metadata (37 kB)\n",
            "Collecting idna<4,>=2.5 (from requests->torchvision==0.13.1+cu113)\n",
            "  Downloading idna-3.11-py3-none-any.whl.metadata (8.4 kB)\n",
            "Collecting urllib3<3,>=1.21.1 (from requests->torchvision==0.13.1+cu113)\n",
            "  Downloading urllib3-2.5.0-py3-none-any.whl.metadata (6.5 kB)\n",
            "Collecting certifi>=2017.4.17 (from requests->torchvision==0.13.1+cu113)\n",
            "  Downloading certifi-2025.10.5-py3-none-any.whl.metadata (2.5 kB)\n",
            "Downloading https://download.pytorch.org/whl/pillow-11.3.0-cp39-cp39-manylinux_2_27_x86_64.manylinux_2_28_x86_64.whl (6.6 MB)\n",
            "\u001b[2K   \u001b[90m━━━━━━━━━━━━━━━━━━━━━━━━━━━━━━━━━━━━━━━━\u001b[0m \u001b[32m6.6/6.6 MB\u001b[0m \u001b[31m176.4 MB/s\u001b[0m  \u001b[33m0:00:00\u001b[0m\n",
            "\u001b[?25hDownloading numpy-2.0.2-cp39-cp39-manylinux_2_17_x86_64.manylinux2014_x86_64.whl (19.5 MB)\n",
            "\u001b[2K   \u001b[90m━━━━━━━━━━━━━━━━━━━━━━━━━━━━━━━━━━━━━━━━\u001b[0m \u001b[32m19.5/19.5 MB\u001b[0m \u001b[31m170.5 MB/s\u001b[0m  \u001b[33m0:00:00\u001b[0m\n",
            "\u001b[?25hDownloading requests-2.32.5-py3-none-any.whl (64 kB)\n",
            "Downloading charset_normalizer-3.4.4-cp39-cp39-manylinux2014_x86_64.manylinux_2_17_x86_64.manylinux_2_28_x86_64.whl (153 kB)\n",
            "Downloading idna-3.11-py3-none-any.whl (71 kB)\n",
            "Downloading urllib3-2.5.0-py3-none-any.whl (129 kB)\n",
            "Downloading certifi-2025.10.5-py3-none-any.whl (163 kB)\n",
            "Downloading https://download.pytorch.org/whl/typing_extensions-4.15.0-py3-none-any.whl (44 kB)\n",
            "Installing collected packages: urllib3, typing-extensions, pillow, numpy, idna, charset_normalizer, certifi, torch, requests, torchvision\n",
            "\u001b[2K   \u001b[90m━━━━━━━━━━━━━━━━━━━━━━━━━━━━━━━━━━━━━━━━\u001b[0m \u001b[32m10/10\u001b[0m [torchvision]\n",
            "\u001b[1A\u001b[2KSuccessfully installed certifi-2025.10.5 charset_normalizer-3.4.4 idna-3.11 numpy-2.0.2 pillow-11.3.0 requests-2.32.5 torch-1.12.1+cu113 torchvision-0.13.1+cu113 typing-extensions-4.15.0 urllib3-2.5.0\n",
            "Collecting basicsr==1.4.2\n",
            "  Using cached basicsr-1.4.2.tar.gz (172 kB)\n",
            "  Preparing metadata (setup.py) ... \u001b[?25l\u001b[?25hdone\n",
            "Collecting facexlib==0.2.5\n",
            "  Using cached facexlib-0.2.5-py3-none-any.whl.metadata (4.9 kB)\n",
            "Collecting gfpgan==1.3.8\n",
            "  Using cached gfpgan-1.3.8-py3-none-any.whl.metadata (12 kB)\n",
            "Collecting addict (from basicsr==1.4.2)\n",
            "  Using cached addict-2.4.0-py3-none-any.whl.metadata (1.0 kB)\n",
            "Collecting future (from basicsr==1.4.2)\n",
            "  Downloading future-1.0.0-py3-none-any.whl.metadata (4.0 kB)\n",
            "Collecting lmdb (from basicsr==1.4.2)\n",
            "  Downloading lmdb-1.7.5-cp39-cp39-manylinux2014_x86_64.manylinux_2_17_x86_64.manylinux_2_28_x86_64.whl.metadata (1.4 kB)\n",
            "Requirement already satisfied: numpy>=1.17 in /usr/local/lib/python3.9/dist-packages (from basicsr==1.4.2) (2.0.2)\n",
            "Collecting opencv-python (from basicsr==1.4.2)\n",
            "  Downloading opencv_python-4.12.0.88-cp37-abi3-manylinux2014_x86_64.manylinux_2_17_x86_64.whl.metadata (19 kB)\n",
            "Requirement already satisfied: Pillow in /usr/local/lib/python3.9/dist-packages (from basicsr==1.4.2) (11.3.0)\n",
            "Collecting pyyaml (from basicsr==1.4.2)\n",
            "  Downloading pyyaml-6.0.3-cp39-cp39-manylinux2014_x86_64.manylinux_2_17_x86_64.manylinux_2_28_x86_64.whl.metadata (2.4 kB)\n",
            "Requirement already satisfied: requests in /usr/local/lib/python3.9/dist-packages (from basicsr==1.4.2) (2.32.5)\n",
            "Collecting scikit-image (from basicsr==1.4.2)\n",
            "  Downloading scikit_image-0.24.0-cp39-cp39-manylinux_2_17_x86_64.manylinux2014_x86_64.whl.metadata (14 kB)\n",
            "Collecting scipy (from basicsr==1.4.2)\n",
            "  Downloading scipy-1.13.1-cp39-cp39-manylinux_2_17_x86_64.manylinux2014_x86_64.whl.metadata (60 kB)\n",
            "Collecting tb-nightly (from basicsr==1.4.2)\n",
            "  Using cached tb_nightly-2.21.0a20251018-py3-none-any.whl.metadata (1.9 kB)\n",
            "Requirement already satisfied: torch>=1.7 in /usr/local/lib/python3.9/dist-packages (from basicsr==1.4.2) (1.12.1+cu113)\n",
            "Requirement already satisfied: torchvision in /usr/local/lib/python3.9/dist-packages (from basicsr==1.4.2) (0.13.1+cu113)\n",
            "Collecting tqdm (from basicsr==1.4.2)\n",
            "  Downloading tqdm-4.67.1-py3-none-any.whl.metadata (57 kB)\n",
            "Collecting yapf (from basicsr==1.4.2)\n",
            "  Using cached yapf-0.43.0-py3-none-any.whl.metadata (46 kB)\n",
            "Collecting filterpy (from facexlib==0.2.5)\n",
            "  Using cached filterpy-1.4.5.zip (177 kB)\n",
            "  Preparing metadata (setup.py) ... \u001b[?25l\u001b[?25hdone\n",
            "Collecting numba (from facexlib==0.2.5)\n",
            "  Downloading numba-0.60.0-cp39-cp39-manylinux2014_x86_64.manylinux_2_17_x86_64.whl.metadata (2.7 kB)\n",
            "Requirement already satisfied: typing-extensions in /usr/local/lib/python3.9/dist-packages (from torch>=1.7->basicsr==1.4.2) (4.15.0)\n",
            "Collecting matplotlib (from filterpy->facexlib==0.2.5)\n",
            "  Downloading matplotlib-3.9.4-cp39-cp39-manylinux_2_17_x86_64.manylinux2014_x86_64.whl.metadata (11 kB)\n",
            "Collecting contourpy>=1.0.1 (from matplotlib->filterpy->facexlib==0.2.5)\n",
            "  Downloading contourpy-1.3.0-cp39-cp39-manylinux_2_17_x86_64.manylinux2014_x86_64.whl.metadata (5.4 kB)\n",
            "Collecting cycler>=0.10 (from matplotlib->filterpy->facexlib==0.2.5)\n",
            "  Downloading cycler-0.12.1-py3-none-any.whl.metadata (3.8 kB)\n",
            "Collecting fonttools>=4.22.0 (from matplotlib->filterpy->facexlib==0.2.5)\n",
            "  Downloading fonttools-4.60.1-cp39-cp39-manylinux2014_x86_64.manylinux_2_17_x86_64.whl.metadata (112 kB)\n",
            "Collecting kiwisolver>=1.3.1 (from matplotlib->filterpy->facexlib==0.2.5)\n",
            "  Downloading kiwisolver-1.4.7-cp39-cp39-manylinux_2_12_x86_64.manylinux2010_x86_64.whl.metadata (6.3 kB)\n",
            "Collecting packaging>=20.0 (from matplotlib->filterpy->facexlib==0.2.5)\n",
            "  Downloading packaging-25.0-py3-none-any.whl.metadata (3.3 kB)\n",
            "Requirement already satisfied: pyparsing>=2.3.1 in /usr/lib/python3/dist-packages (from matplotlib->filterpy->facexlib==0.2.5) (2.4.7)\n",
            "Collecting python-dateutil>=2.7 (from matplotlib->filterpy->facexlib==0.2.5)\n",
            "  Downloading python_dateutil-2.9.0.post0-py2.py3-none-any.whl.metadata (8.4 kB)\n",
            "Collecting importlib-resources>=3.2.0 (from matplotlib->filterpy->facexlib==0.2.5)\n",
            "  Downloading importlib_resources-6.5.2-py3-none-any.whl.metadata (3.9 kB)\n",
            "Collecting zipp>=3.1.0 (from importlib-resources>=3.2.0->matplotlib->filterpy->facexlib==0.2.5)\n",
            "  Downloading zipp-3.23.0-py3-none-any.whl.metadata (3.6 kB)\n",
            "Requirement already satisfied: six>=1.5 in /usr/lib/python3/dist-packages (from python-dateutil>=2.7->matplotlib->filterpy->facexlib==0.2.5) (1.16.0)\n",
            "Collecting llvmlite<0.44,>=0.43.0dev0 (from numba->facexlib==0.2.5)\n",
            "  Downloading llvmlite-0.43.0-cp39-cp39-manylinux_2_17_x86_64.manylinux2014_x86_64.whl.metadata (4.8 kB)\n",
            "Requirement already satisfied: charset_normalizer<4,>=2 in /usr/local/lib/python3.9/dist-packages (from requests->basicsr==1.4.2) (3.4.4)\n",
            "Requirement already satisfied: idna<4,>=2.5 in /usr/local/lib/python3.9/dist-packages (from requests->basicsr==1.4.2) (3.11)\n",
            "Requirement already satisfied: urllib3<3,>=1.21.1 in /usr/local/lib/python3.9/dist-packages (from requests->basicsr==1.4.2) (2.5.0)\n",
            "Requirement already satisfied: certifi>=2017.4.17 in /usr/local/lib/python3.9/dist-packages (from requests->basicsr==1.4.2) (2025.10.5)\n",
            "Collecting networkx>=2.8 (from scikit-image->basicsr==1.4.2)\n",
            "  Downloading networkx-3.2.1-py3-none-any.whl.metadata (5.2 kB)\n",
            "Collecting imageio>=2.33 (from scikit-image->basicsr==1.4.2)\n",
            "  Downloading imageio-2.37.0-py3-none-any.whl.metadata (5.2 kB)\n",
            "Collecting tifffile>=2022.8.12 (from scikit-image->basicsr==1.4.2)\n",
            "  Downloading tifffile-2024.8.30-py3-none-any.whl.metadata (31 kB)\n",
            "Collecting lazy-loader>=0.4 (from scikit-image->basicsr==1.4.2)\n",
            "  Downloading lazy_loader-0.4-py3-none-any.whl.metadata (7.6 kB)\n",
            "Collecting absl-py>=0.4 (from tb-nightly->basicsr==1.4.2)\n",
            "  Downloading absl_py-2.3.1-py3-none-any.whl.metadata (3.3 kB)\n",
            "Collecting grpcio>=1.48.2 (from tb-nightly->basicsr==1.4.2)\n",
            "  Downloading grpcio-1.75.1-cp39-cp39-manylinux2014_x86_64.manylinux_2_17_x86_64.whl.metadata (3.7 kB)\n",
            "Requirement already satisfied: markdown>=2.6.8 in /usr/lib/python3/dist-packages (from tb-nightly->basicsr==1.4.2) (3.3.6)\n",
            "Collecting protobuf!=4.24.0,>=3.19.6 (from tb-nightly->basicsr==1.4.2)\n",
            "  Downloading protobuf-6.33.0-cp39-abi3-manylinux2014_x86_64.whl.metadata (593 bytes)\n",
            "Requirement already satisfied: setuptools>=41.0.0 in /usr/local/lib/python3.9/dist-packages (from tb-nightly->basicsr==1.4.2) (80.9.0)\n",
            "Collecting tensorboard-data-server<0.8.0,>=0.7.0 (from tb-nightly->basicsr==1.4.2)\n",
            "  Downloading tensorboard_data_server-0.7.2-py3-none-manylinux_2_31_x86_64.whl.metadata (1.1 kB)\n",
            "Collecting werkzeug>=1.0.1 (from tb-nightly->basicsr==1.4.2)\n",
            "  Downloading werkzeug-3.1.3-py3-none-any.whl.metadata (3.7 kB)\n",
            "Requirement already satisfied: importlib-metadata>=4.4 in /usr/lib/python3/dist-packages (from markdown>=2.6.8->tb-nightly->basicsr==1.4.2) (4.6.4)\n",
            "Collecting MarkupSafe>=2.1.1 (from werkzeug>=1.0.1->tb-nightly->basicsr==1.4.2)\n",
            "  Downloading markupsafe-3.0.3-cp39-cp39-manylinux2014_x86_64.manylinux_2_17_x86_64.manylinux_2_28_x86_64.whl.metadata (2.7 kB)\n",
            "Collecting platformdirs>=3.5.1 (from yapf->basicsr==1.4.2)\n",
            "  Downloading platformdirs-4.4.0-py3-none-any.whl.metadata (12 kB)\n",
            "Collecting tomli>=2.0.1 (from yapf->basicsr==1.4.2)\n",
            "  Downloading tomli-2.3.0-py3-none-any.whl.metadata (10 kB)\n",
            "Using cached facexlib-0.2.5-py3-none-any.whl (59 kB)\n",
            "Using cached gfpgan-1.3.8-py3-none-any.whl (52 kB)\n",
            "Using cached addict-2.4.0-py3-none-any.whl (3.8 kB)\n",
            "Downloading future-1.0.0-py3-none-any.whl (491 kB)\n",
            "Downloading lmdb-1.7.5-cp39-cp39-manylinux2014_x86_64.manylinux_2_17_x86_64.manylinux_2_28_x86_64.whl (291 kB)\n",
            "Downloading matplotlib-3.9.4-cp39-cp39-manylinux_2_17_x86_64.manylinux2014_x86_64.whl (8.3 MB)\n",
            "\u001b[2K   \u001b[90m━━━━━━━━━━━━━━━━━━━━━━━━━━━━━━━━━━━━━━━━\u001b[0m \u001b[32m8.3/8.3 MB\u001b[0m \u001b[31m130.1 MB/s\u001b[0m  \u001b[33m0:00:00\u001b[0m\n",
            "\u001b[?25hDownloading contourpy-1.3.0-cp39-cp39-manylinux_2_17_x86_64.manylinux2014_x86_64.whl (321 kB)\n",
            "Downloading cycler-0.12.1-py3-none-any.whl (8.3 kB)\n",
            "Downloading fonttools-4.60.1-cp39-cp39-manylinux2014_x86_64.manylinux_2_17_x86_64.whl (4.8 MB)\n",
            "\u001b[2K   \u001b[90m━━━━━━━━━━━━━━━━━━━━━━━━━━━━━━━━━━━━━━━━\u001b[0m \u001b[32m4.8/4.8 MB\u001b[0m \u001b[31m149.7 MB/s\u001b[0m  \u001b[33m0:00:00\u001b[0m\n",
            "\u001b[?25hDownloading importlib_resources-6.5.2-py3-none-any.whl (37 kB)\n",
            "Downloading kiwisolver-1.4.7-cp39-cp39-manylinux_2_12_x86_64.manylinux2010_x86_64.whl (1.6 MB)\n",
            "\u001b[2K   \u001b[90m━━━━━━━━━━━━━━━━━━━━━━━━━━━━━━━━━━━━━━━━\u001b[0m \u001b[32m1.6/1.6 MB\u001b[0m \u001b[31m88.7 MB/s\u001b[0m  \u001b[33m0:00:00\u001b[0m\n",
            "\u001b[?25hDownloading packaging-25.0-py3-none-any.whl (66 kB)\n",
            "Downloading python_dateutil-2.9.0.post0-py2.py3-none-any.whl (229 kB)\n",
            "Downloading zipp-3.23.0-py3-none-any.whl (10 kB)\n",
            "Downloading numba-0.60.0-cp39-cp39-manylinux2014_x86_64.manylinux_2_17_x86_64.whl (3.7 MB)\n",
            "\u001b[2K   \u001b[90m━━━━━━━━━━━━━━━━━━━━━━━━━━━━━━━━━━━━━━━━\u001b[0m \u001b[32m3.7/3.7 MB\u001b[0m \u001b[31m141.5 MB/s\u001b[0m  \u001b[33m0:00:00\u001b[0m\n",
            "\u001b[?25hDownloading llvmlite-0.43.0-cp39-cp39-manylinux_2_17_x86_64.manylinux2014_x86_64.whl (43.9 MB)\n",
            "\u001b[2K   \u001b[90m━━━━━━━━━━━━━━━━━━━━━━━━━━━━━━━━━━━━━━━━\u001b[0m \u001b[32m43.9/43.9 MB\u001b[0m \u001b[31m76.5 MB/s\u001b[0m  \u001b[33m0:00:00\u001b[0m\n",
            "\u001b[?25hDownloading opencv_python-4.12.0.88-cp37-abi3-manylinux2014_x86_64.manylinux_2_17_x86_64.whl (67.0 MB)\n",
            "\u001b[2K   \u001b[90m━━━━━━━━━━━━━━━━━━━━━━━━━━━━━━━━━━━━━━━━\u001b[0m \u001b[32m67.0/67.0 MB\u001b[0m \u001b[31m60.2 MB/s\u001b[0m  \u001b[33m0:00:01\u001b[0m\n",
            "\u001b[?25hDownloading pyyaml-6.0.3-cp39-cp39-manylinux2014_x86_64.manylinux_2_17_x86_64.manylinux_2_28_x86_64.whl (750 kB)\n",
            "\u001b[2K   \u001b[90m━━━━━━━━━━━━━━━━━━━━━━━━━━━━━━━━━━━━━━━━\u001b[0m \u001b[32m750.8/750.8 kB\u001b[0m \u001b[31m33.4 MB/s\u001b[0m  \u001b[33m0:00:00\u001b[0m\n",
            "\u001b[?25hDownloading scikit_image-0.24.0-cp39-cp39-manylinux_2_17_x86_64.manylinux2014_x86_64.whl (14.9 MB)\n",
            "\u001b[2K   \u001b[90m━━━━━━━━━━━━━━━━━━━━━━━━━━━━━━━━━━━━━━━━\u001b[0m \u001b[32m14.9/14.9 MB\u001b[0m \u001b[31m154.4 MB/s\u001b[0m  \u001b[33m0:00:00\u001b[0m\n",
            "\u001b[?25hDownloading imageio-2.37.0-py3-none-any.whl (315 kB)\n",
            "Downloading lazy_loader-0.4-py3-none-any.whl (12 kB)\n",
            "Downloading networkx-3.2.1-py3-none-any.whl (1.6 MB)\n",
            "\u001b[2K   \u001b[90m━━━━━━━━━━━━━━━━━━━━━━━━━━━━━━━━━━━━━━━━\u001b[0m \u001b[32m1.6/1.6 MB\u001b[0m \u001b[31m84.2 MB/s\u001b[0m  \u001b[33m0:00:00\u001b[0m\n",
            "\u001b[?25hDownloading scipy-1.13.1-cp39-cp39-manylinux_2_17_x86_64.manylinux2014_x86_64.whl (38.6 MB)\n",
            "\u001b[2K   \u001b[90m━━━━━━━━━━━━━━━━━━━━━━━━━━━━━━━━━━━━━━━━\u001b[0m \u001b[32m38.6/38.6 MB\u001b[0m \u001b[31m54.0 MB/s\u001b[0m  \u001b[33m0:00:00\u001b[0m\n",
            "\u001b[?25hDownloading tifffile-2024.8.30-py3-none-any.whl (227 kB)\n",
            "Using cached tb_nightly-2.21.0a20251018-py3-none-any.whl (5.5 MB)\n",
            "Downloading tensorboard_data_server-0.7.2-py3-none-manylinux_2_31_x86_64.whl (6.6 MB)\n",
            "\u001b[2K   \u001b[90m━━━━━━━━━━━━━━━━━━━━━━━━━━━━━━━━━━━━━━━━\u001b[0m \u001b[32m6.6/6.6 MB\u001b[0m \u001b[31m136.1 MB/s\u001b[0m  \u001b[33m0:00:00\u001b[0m\n",
            "\u001b[?25hDownloading absl_py-2.3.1-py3-none-any.whl (135 kB)\n",
            "Downloading grpcio-1.75.1-cp39-cp39-manylinux2014_x86_64.manylinux_2_17_x86_64.whl (6.5 MB)\n",
            "\u001b[2K   \u001b[90m━━━━━━━━━━━━━━━━━━━━━━━━━━━━━━━━━━━━━━━━\u001b[0m \u001b[32m6.5/6.5 MB\u001b[0m \u001b[31m178.8 MB/s\u001b[0m  \u001b[33m0:00:00\u001b[0m\n",
            "\u001b[?25hDownloading protobuf-6.33.0-cp39-abi3-manylinux2014_x86_64.whl (323 kB)\n",
            "Downloading werkzeug-3.1.3-py3-none-any.whl (224 kB)\n",
            "Downloading markupsafe-3.0.3-cp39-cp39-manylinux2014_x86_64.manylinux_2_17_x86_64.manylinux_2_28_x86_64.whl (20 kB)\n",
            "Downloading tqdm-4.67.1-py3-none-any.whl (78 kB)\n",
            "Using cached yapf-0.43.0-py3-none-any.whl (256 kB)\n",
            "Downloading platformdirs-4.4.0-py3-none-any.whl (18 kB)\n",
            "Downloading tomli-2.3.0-py3-none-any.whl (14 kB)\n",
            "Building wheels for collected packages: basicsr, filterpy\n",
            "\u001b[33m  DEPRECATION: Building 'basicsr' using the legacy setup.py bdist_wheel mechanism, which will be removed in a future version. pip 25.3 will enforce this behaviour change. A possible replacement is to use the standardized build interface by setting the `--use-pep517` option, (possibly combined with `--no-build-isolation`), or adding a `pyproject.toml` file to the source tree of 'basicsr'. Discussion can be found at https://github.com/pypa/pip/issues/6334\u001b[0m\u001b[33m\n",
            "\u001b[0m  Building wheel for basicsr (setup.py) ... \u001b[?25l\u001b[?25hdone\n",
            "  Created wheel for basicsr: filename=basicsr-1.4.2-py3-none-any.whl size=214909 sha256=37dd9e94398762610112d567dac82a026ca6ca256fba1020cc525eebf83676a6\n",
            "  Stored in directory: /root/.cache/pip/wheels/42/d6/3d/6d8c4b8fabeb93dd442eb255f133e8928c75d903fe20e9472c\n",
            "\u001b[33m  DEPRECATION: Building 'filterpy' using the legacy setup.py bdist_wheel mechanism, which will be removed in a future version. pip 25.3 will enforce this behaviour change. A possible replacement is to use the standardized build interface by setting the `--use-pep517` option, (possibly combined with `--no-build-isolation`), or adding a `pyproject.toml` file to the source tree of 'filterpy'. Discussion can be found at https://github.com/pypa/pip/issues/6334\u001b[0m\u001b[33m\n",
            "\u001b[0m  Building wheel for filterpy (setup.py) ... \u001b[?25l\u001b[?25hdone\n",
            "  Created wheel for filterpy: filename=filterpy-1.4.5-py3-none-any.whl size=110545 sha256=01438e8d8213e316dc3de39b6e0e9c9c7f20ae4a8a4fcd5848c84f4a0aef4092\n",
            "  Stored in directory: /root/.cache/pip/wheels/53/e6/de/a09ea01e923aaf88b9f8c7c44329e857b2c1a31901167e55e6\n",
            "Successfully built basicsr filterpy\n",
            "Installing collected packages: lmdb, addict, zipp, tqdm, tomli, tifffile, tensorboard-data-server, scipy, pyyaml, python-dateutil, protobuf, platformdirs, packaging, opencv-python, networkx, MarkupSafe, llvmlite, kiwisolver, imageio, grpcio, future, fonttools, cycler, contourpy, absl-py, yapf, werkzeug, numba, lazy-loader, importlib-resources, tb-nightly, scikit-image, matplotlib, filterpy, basicsr, facexlib, gfpgan\n",
            "\u001b[2K  Attempting uninstall: zipp\n",
            "\u001b[2K    Found existing installation: zipp 1.0.0\n",
            "\u001b[2K    Uninstalling zipp-1.0.0:\n",
            "\u001b[2K      Successfully uninstalled zipp-1.0.0\n",
            "\u001b[2K  Attempting uninstall: MarkupSafe\n",
            "\u001b[2K    Found existing installation: MarkupSafe 2.0.1\n",
            "\u001b[2K    Uninstalling MarkupSafe-2.0.1:\n",
            "\u001b[2K      Successfully uninstalled MarkupSafe-2.0.1\n",
            "\u001b[2K   \u001b[90m━━━━━━━━━━━━━━━━━━━━━━━━━━━━━━━━━━━━━━━━\u001b[0m \u001b[32m37/37\u001b[0m [gfpgan]\n",
            "\u001b[1A\u001b[2KSuccessfully installed MarkupSafe-3.0.3 absl-py-2.3.1 addict-2.4.0 basicsr-1.4.2 contourpy-1.3.0 cycler-0.12.1 facexlib-0.2.5 filterpy-1.4.5 fonttools-4.60.1 future-1.0.0 gfpgan-1.3.8 grpcio-1.75.1 imageio-2.37.0 importlib-resources-6.5.2 kiwisolver-1.4.7 lazy-loader-0.4 llvmlite-0.43.0 lmdb-1.7.5 matplotlib-3.9.4 networkx-3.2.1 numba-0.60.0 opencv-python-4.12.0.88 packaging-25.0 platformdirs-4.4.0 protobuf-6.33.0 python-dateutil-2.9.0.post0 pyyaml-6.0.3 scikit-image-0.24.0 scipy-1.13.1 tb-nightly-2.21.0a20251018 tensorboard-data-server-0.7.2 tifffile-2024.8.30 tomli-2.3.0 tqdm-4.67.1 werkzeug-3.1.3 yapf-0.43.0 zipp-3.23.0\n",
            "Requirement already satisfied: basicsr>=1.4.2 in /usr/local/lib/python3.9/dist-packages (from -r Real-ESRGAN/requirements.txt (line 1)) (1.4.2)\n",
            "Requirement already satisfied: facexlib>=0.2.5 in /usr/local/lib/python3.9/dist-packages (from -r Real-ESRGAN/requirements.txt (line 2)) (0.2.5)\n",
            "Requirement already satisfied: gfpgan>=1.3.5 in /usr/local/lib/python3.9/dist-packages (from -r Real-ESRGAN/requirements.txt (line 3)) (1.3.8)\n",
            "Requirement already satisfied: numpy in /usr/local/lib/python3.9/dist-packages (from -r Real-ESRGAN/requirements.txt (line 4)) (2.0.2)\n",
            "Requirement already satisfied: opencv-python in /usr/local/lib/python3.9/dist-packages (from -r Real-ESRGAN/requirements.txt (line 5)) (4.12.0.88)\n",
            "Requirement already satisfied: Pillow in /usr/local/lib/python3.9/dist-packages (from -r Real-ESRGAN/requirements.txt (line 6)) (11.3.0)\n",
            "Requirement already satisfied: torch>=1.7 in /usr/local/lib/python3.9/dist-packages (from -r Real-ESRGAN/requirements.txt (line 7)) (1.12.1+cu113)\n",
            "Requirement already satisfied: torchvision in /usr/local/lib/python3.9/dist-packages (from -r Real-ESRGAN/requirements.txt (line 8)) (0.13.1+cu113)\n",
            "Requirement already satisfied: tqdm in /usr/local/lib/python3.9/dist-packages (from -r Real-ESRGAN/requirements.txt (line 9)) (4.67.1)\n",
            "Requirement already satisfied: addict in /usr/local/lib/python3.9/dist-packages (from basicsr>=1.4.2->-r Real-ESRGAN/requirements.txt (line 1)) (2.4.0)\n",
            "Requirement already satisfied: future in /usr/local/lib/python3.9/dist-packages (from basicsr>=1.4.2->-r Real-ESRGAN/requirements.txt (line 1)) (1.0.0)\n",
            "Requirement already satisfied: lmdb in /usr/local/lib/python3.9/dist-packages (from basicsr>=1.4.2->-r Real-ESRGAN/requirements.txt (line 1)) (1.7.5)\n",
            "Requirement already satisfied: pyyaml in /usr/local/lib/python3.9/dist-packages (from basicsr>=1.4.2->-r Real-ESRGAN/requirements.txt (line 1)) (6.0.3)\n",
            "Requirement already satisfied: requests in /usr/local/lib/python3.9/dist-packages (from basicsr>=1.4.2->-r Real-ESRGAN/requirements.txt (line 1)) (2.32.5)\n",
            "Requirement already satisfied: scikit-image in /usr/local/lib/python3.9/dist-packages (from basicsr>=1.4.2->-r Real-ESRGAN/requirements.txt (line 1)) (0.24.0)\n",
            "Requirement already satisfied: scipy in /usr/local/lib/python3.9/dist-packages (from basicsr>=1.4.2->-r Real-ESRGAN/requirements.txt (line 1)) (1.13.1)\n",
            "Requirement already satisfied: tb-nightly in /usr/local/lib/python3.9/dist-packages (from basicsr>=1.4.2->-r Real-ESRGAN/requirements.txt (line 1)) (2.21.0a20251018)\n",
            "Requirement already satisfied: yapf in /usr/local/lib/python3.9/dist-packages (from basicsr>=1.4.2->-r Real-ESRGAN/requirements.txt (line 1)) (0.43.0)\n",
            "Requirement already satisfied: filterpy in /usr/local/lib/python3.9/dist-packages (from facexlib>=0.2.5->-r Real-ESRGAN/requirements.txt (line 2)) (1.4.5)\n",
            "Requirement already satisfied: numba in /usr/local/lib/python3.9/dist-packages (from facexlib>=0.2.5->-r Real-ESRGAN/requirements.txt (line 2)) (0.60.0)\n",
            "Requirement already satisfied: typing-extensions in /usr/local/lib/python3.9/dist-packages (from torch>=1.7->-r Real-ESRGAN/requirements.txt (line 7)) (4.15.0)\n",
            "Requirement already satisfied: matplotlib in /usr/local/lib/python3.9/dist-packages (from filterpy->facexlib>=0.2.5->-r Real-ESRGAN/requirements.txt (line 2)) (3.9.4)\n",
            "Requirement already satisfied: contourpy>=1.0.1 in /usr/local/lib/python3.9/dist-packages (from matplotlib->filterpy->facexlib>=0.2.5->-r Real-ESRGAN/requirements.txt (line 2)) (1.3.0)\n",
            "Requirement already satisfied: cycler>=0.10 in /usr/local/lib/python3.9/dist-packages (from matplotlib->filterpy->facexlib>=0.2.5->-r Real-ESRGAN/requirements.txt (line 2)) (0.12.1)\n",
            "Requirement already satisfied: fonttools>=4.22.0 in /usr/local/lib/python3.9/dist-packages (from matplotlib->filterpy->facexlib>=0.2.5->-r Real-ESRGAN/requirements.txt (line 2)) (4.60.1)\n",
            "Requirement already satisfied: kiwisolver>=1.3.1 in /usr/local/lib/python3.9/dist-packages (from matplotlib->filterpy->facexlib>=0.2.5->-r Real-ESRGAN/requirements.txt (line 2)) (1.4.7)\n",
            "Requirement already satisfied: packaging>=20.0 in /usr/local/lib/python3.9/dist-packages (from matplotlib->filterpy->facexlib>=0.2.5->-r Real-ESRGAN/requirements.txt (line 2)) (25.0)\n",
            "Requirement already satisfied: pyparsing>=2.3.1 in /usr/lib/python3/dist-packages (from matplotlib->filterpy->facexlib>=0.2.5->-r Real-ESRGAN/requirements.txt (line 2)) (2.4.7)\n",
            "Requirement already satisfied: python-dateutil>=2.7 in /usr/local/lib/python3.9/dist-packages (from matplotlib->filterpy->facexlib>=0.2.5->-r Real-ESRGAN/requirements.txt (line 2)) (2.9.0.post0)\n",
            "Requirement already satisfied: importlib-resources>=3.2.0 in /usr/local/lib/python3.9/dist-packages (from matplotlib->filterpy->facexlib>=0.2.5->-r Real-ESRGAN/requirements.txt (line 2)) (6.5.2)\n",
            "Requirement already satisfied: zipp>=3.1.0 in /usr/local/lib/python3.9/dist-packages (from importlib-resources>=3.2.0->matplotlib->filterpy->facexlib>=0.2.5->-r Real-ESRGAN/requirements.txt (line 2)) (3.23.0)\n",
            "Requirement already satisfied: six>=1.5 in /usr/lib/python3/dist-packages (from python-dateutil>=2.7->matplotlib->filterpy->facexlib>=0.2.5->-r Real-ESRGAN/requirements.txt (line 2)) (1.16.0)\n",
            "Requirement already satisfied: llvmlite<0.44,>=0.43.0dev0 in /usr/local/lib/python3.9/dist-packages (from numba->facexlib>=0.2.5->-r Real-ESRGAN/requirements.txt (line 2)) (0.43.0)\n",
            "Requirement already satisfied: charset_normalizer<4,>=2 in /usr/local/lib/python3.9/dist-packages (from requests->basicsr>=1.4.2->-r Real-ESRGAN/requirements.txt (line 1)) (3.4.4)\n",
            "Requirement already satisfied: idna<4,>=2.5 in /usr/local/lib/python3.9/dist-packages (from requests->basicsr>=1.4.2->-r Real-ESRGAN/requirements.txt (line 1)) (3.11)\n",
            "Requirement already satisfied: urllib3<3,>=1.21.1 in /usr/local/lib/python3.9/dist-packages (from requests->basicsr>=1.4.2->-r Real-ESRGAN/requirements.txt (line 1)) (2.5.0)\n",
            "Requirement already satisfied: certifi>=2017.4.17 in /usr/local/lib/python3.9/dist-packages (from requests->basicsr>=1.4.2->-r Real-ESRGAN/requirements.txt (line 1)) (2025.10.5)\n",
            "Requirement already satisfied: networkx>=2.8 in /usr/local/lib/python3.9/dist-packages (from scikit-image->basicsr>=1.4.2->-r Real-ESRGAN/requirements.txt (line 1)) (3.2.1)\n",
            "Requirement already satisfied: imageio>=2.33 in /usr/local/lib/python3.9/dist-packages (from scikit-image->basicsr>=1.4.2->-r Real-ESRGAN/requirements.txt (line 1)) (2.37.0)\n",
            "Requirement already satisfied: tifffile>=2022.8.12 in /usr/local/lib/python3.9/dist-packages (from scikit-image->basicsr>=1.4.2->-r Real-ESRGAN/requirements.txt (line 1)) (2024.8.30)\n",
            "Requirement already satisfied: lazy-loader>=0.4 in /usr/local/lib/python3.9/dist-packages (from scikit-image->basicsr>=1.4.2->-r Real-ESRGAN/requirements.txt (line 1)) (0.4)\n",
            "Requirement already satisfied: absl-py>=0.4 in /usr/local/lib/python3.9/dist-packages (from tb-nightly->basicsr>=1.4.2->-r Real-ESRGAN/requirements.txt (line 1)) (2.3.1)\n",
            "Requirement already satisfied: grpcio>=1.48.2 in /usr/local/lib/python3.9/dist-packages (from tb-nightly->basicsr>=1.4.2->-r Real-ESRGAN/requirements.txt (line 1)) (1.75.1)\n",
            "Requirement already satisfied: markdown>=2.6.8 in /usr/lib/python3/dist-packages (from tb-nightly->basicsr>=1.4.2->-r Real-ESRGAN/requirements.txt (line 1)) (3.3.6)\n",
            "Requirement already satisfied: protobuf!=4.24.0,>=3.19.6 in /usr/local/lib/python3.9/dist-packages (from tb-nightly->basicsr>=1.4.2->-r Real-ESRGAN/requirements.txt (line 1)) (6.33.0)\n",
            "Requirement already satisfied: setuptools>=41.0.0 in /usr/local/lib/python3.9/dist-packages (from tb-nightly->basicsr>=1.4.2->-r Real-ESRGAN/requirements.txt (line 1)) (80.9.0)\n",
            "Requirement already satisfied: tensorboard-data-server<0.8.0,>=0.7.0 in /usr/local/lib/python3.9/dist-packages (from tb-nightly->basicsr>=1.4.2->-r Real-ESRGAN/requirements.txt (line 1)) (0.7.2)\n",
            "Requirement already satisfied: werkzeug>=1.0.1 in /usr/local/lib/python3.9/dist-packages (from tb-nightly->basicsr>=1.4.2->-r Real-ESRGAN/requirements.txt (line 1)) (3.1.3)\n",
            "Requirement already satisfied: importlib-metadata>=4.4 in /usr/lib/python3/dist-packages (from markdown>=2.6.8->tb-nightly->basicsr>=1.4.2->-r Real-ESRGAN/requirements.txt (line 1)) (4.6.4)\n",
            "Requirement already satisfied: MarkupSafe>=2.1.1 in /usr/local/lib/python3.9/dist-packages (from werkzeug>=1.0.1->tb-nightly->basicsr>=1.4.2->-r Real-ESRGAN/requirements.txt (line 1)) (3.0.3)\n",
            "Requirement already satisfied: platformdirs>=3.5.1 in /usr/local/lib/python3.9/dist-packages (from yapf->basicsr>=1.4.2->-r Real-ESRGAN/requirements.txt (line 1)) (4.4.0)\n",
            "Requirement already satisfied: tomli>=2.0.1 in /usr/local/lib/python3.9/dist-packages (from yapf->basicsr>=1.4.2->-r Real-ESRGAN/requirements.txt (line 1)) (2.3.0)\n"
          ]
        }
      ]
    },
    {
      "cell_type": "markdown",
      "source": [
        "\n",
        "# 2. Mount drive (optional)"
      ],
      "metadata": {
        "id": "kRdP_e_rdWrr"
      }
    },
    {
      "cell_type": "code",
      "source": [
        "from google.colab import drive\n",
        "mount_drive=False #@param{type:\"boolean\"}\n",
        "\n",
        "if mount_drive:\n",
        "  drive.mount('/content/gdrive/')"
      ],
      "metadata": {
        "cellView": "form",
        "id": "vdYKV-kKdKNf"
      },
      "execution_count": null,
      "outputs": []
    },
    {
      "cell_type": "markdown",
      "source": [
        "# 3. Upscale video\n",
        "\n",
        "- The upscaled video will be saved to `output_dir`\n",
        "- If google drive is mounted, it will be also saved at `MyDrive/Upscaled Videos (REAL-ESRGAN)`\n"
      ],
      "metadata": {
        "id": "mZZPG007SB4A"
      }
    },
    {
      "cell_type": "code",
      "execution_count": 1,
      "metadata": {
        "id": "NX2v5PH9O7Sw",
        "colab": {
          "base_uri": "https://localhost:8080/",
          "height": 272
        },
        "outputId": "069e9824-3287-49de-e56f-82001a1a0cf8"
      },
      "outputs": [
        {
          "output_type": "error",
          "ename": "NameError",
          "evalue": "name 'os' is not defined",
          "traceback": [
            "\u001b[0;31m---------------------------------------------------------------------------\u001b[0m",
            "\u001b[0;31mNameError\u001b[0m                                 Traceback (most recent call last)",
            "\u001b[0;32m/tmp/ipython-input-3255294891.py\u001b[0m in \u001b[0;36m<cell line: 0>\u001b[0;34m()\u001b[0m\n\u001b[1;32m      4\u001b[0m \u001b[0mmodel\u001b[0m \u001b[0;34m=\u001b[0m \u001b[0;34m\"RealESRGAN_x4plus\"\u001b[0m \u001b[0;31m#@param [\"RealESRGAN_x4plus\" , \"RealESRGAN_x4plus_anime_6B\", \"realesr-animevideov3\"]\u001b[0m\u001b[0;34m\u001b[0m\u001b[0;34m\u001b[0m\u001b[0m\n\u001b[1;32m      5\u001b[0m \u001b[0;34m\u001b[0m\u001b[0m\n\u001b[0;32m----> 6\u001b[0;31m \u001b[0;32massert\u001b[0m \u001b[0mos\u001b[0m\u001b[0;34m.\u001b[0m\u001b[0mpath\u001b[0m\u001b[0;34m.\u001b[0m\u001b[0mexists\u001b[0m\u001b[0;34m(\u001b[0m\u001b[0mvideo_path\u001b[0m\u001b[0;34m)\u001b[0m\u001b[0;34m,\u001b[0m \u001b[0;34m\"Video file does not exist\"\u001b[0m\u001b[0;34m\u001b[0m\u001b[0;34m\u001b[0m\u001b[0m\n\u001b[0m\u001b[1;32m      7\u001b[0m \u001b[0;34m\u001b[0m\u001b[0m\n\u001b[1;32m      8\u001b[0m \u001b[0mvideo_capture\u001b[0m \u001b[0;34m=\u001b[0m \u001b[0mcv2\u001b[0m\u001b[0;34m.\u001b[0m\u001b[0mVideoCapture\u001b[0m\u001b[0;34m(\u001b[0m\u001b[0mvideo_path\u001b[0m\u001b[0;34m)\u001b[0m\u001b[0;34m\u001b[0m\u001b[0;34m\u001b[0m\u001b[0m\n",
            "\u001b[0;31mNameError\u001b[0m: name 'os' is not defined"
          ]
        }
      ],
      "source": [
        "video_path=\"/content/input.mp4\" #@param{type:\"string\"}\n",
        "output_dir=\"/content/papa\" #@param{type:\"string\"}\n",
        "resolution = \"FHD (1920 x 1080)\" # @param [\"FHD (1920 x 1080)\", \"2k (2560 x 1440)\", \"4k (3840 x 2160)\",\"2 x original\", \"3 x original\", \"4 x original\"] {type:\"string\"}\n",
        "model = \"RealESRGAN_x4plus\" #@param [\"RealESRGAN_x4plus\" , \"RealESRGAN_x4plus_anime_6B\", \"realesr-animevideov3\"]\n",
        "\n",
        "assert os.path.exists(video_path), \"Video file does not exist\"\n",
        "\n",
        "video_capture = cv2.VideoCapture(video_path)\n",
        "video_width = int(video_capture.get(cv2.CAP_PROP_FRAME_WIDTH))\n",
        "video_height = int(video_capture.get(cv2.CAP_PROP_FRAME_HEIGHT))\n",
        "\n",
        "final_width = None\n",
        "final_height = None\n",
        "aspect_ratio = float(video_width/video_height)\n",
        "\n",
        "# Get output resolutions\n",
        "match resolution:\n",
        "  case \"FHD (1920 x 1080)\":\n",
        "    final_width=1920\n",
        "    final_height=1080\n",
        "  case \"2k (2560 x 1440)\":\n",
        "    final_width=2560\n",
        "    final_height=1440\n",
        "  case \"4k (3840 x 2160)\":\n",
        "    final_width=3840\n",
        "    final_height=2160\n",
        "  case \"2 x original\":\n",
        "    final_width=2*video_width\n",
        "    final_height=2*video_height\n",
        "  case \"3 x original\":\n",
        "    final_width=3*video_width\n",
        "    final_height=3*video_height\n",
        "  case \"4 x original\":\n",
        "    final_width=4*video_width\n",
        "    final_height=4*video_height\n",
        "\n",
        "if aspect_ratio == 1.0 and \"original\" not in resolution:\n",
        "  final_height = final_width\n",
        "\n",
        "if aspect_ratio < 1.0 and \"original\" not in resolution:\n",
        "  temp = final_width\n",
        "  final_width = final_height\n",
        "  final_height = temp\n",
        "\n",
        "scale_factor = max(final_width/video_width, final_height/video_height)\n",
        "isEven = int(video_width * scale_factor) % 2 == 0 and int(video_height * scale_factor) % 2 == 0\n",
        "\n",
        "# scale_factor needs to be even\n",
        "while isEven == False:\n",
        "  scale_factor += 0.01\n",
        "  isEven = int(video_width * scale_factor) % 2 == 0 and int(video_height * scale_factor) % 2 == 0\n",
        "\n",
        "print(f\"Upscaling from {video_width}x{video_height} to {final_width}x{final_height}, scale_factor={scale_factor}\")\n",
        "\n",
        "!python inference_realesrgan_video.py -n {model} -i '{video_path}' -o '{output_dir}' --outscale {scale_factor}\n",
        "\n",
        "video_name_with_ext = os.path.basename(video_path)\n",
        "video_name = video_name_with_ext.replace(\".mp4\",\"\")\n",
        "upscaled_video_path = f\"{output_dir}{video_name}_out.mp4\"\n",
        "final_video_name = f\"{video_name}_upscaled_{final_width}_{final_height}.mp4\"\n",
        "final_video_path = os.path.join(output_dir, final_video_name)\n",
        "\n",
        "# crop to fit\n",
        "if \"original\" not in resolution:\n",
        "  print(\"Cropping to fit...\")\n",
        "  command = f\"ffmpeg -loglevel error -hwaccel cuda -y -i '{upscaled_video_path}' -c:v h264_nvenc -filter:v  'crop={final_width}:{final_height}:(in_w-{final_width})/2:(in_h-{final_height})/2' -c:v libx264 -pix_fmt yuv420p '{final_video_path}'\"\n",
        "  subprocess.run(command,shell=True)\n",
        "else:\n",
        "  # final video path = upscaled video path\n",
        "  command = f\"cp '{upscaled_video_path}' '{final_video_path}'\"\n",
        "  subprocess.run(command,shell=True)\n",
        "\n",
        "print(f\"Upscaled video saved to: {final_video_path}\")\n",
        "\n",
        "# save to drive\n",
        "if mount_drive:\n",
        "  drive_folder = \"MyDrive/Upscaled Videos (REAL-ESRGAN)\"\n",
        "  save_directory_drive = f\"/content/gdrive/{drive_folder}\"\n",
        "  os.makedirs(save_directory_drive, exist_ok=True)\n",
        "\n",
        "  command = f\"cp '{final_video_path}' '{save_directory_drive}/{final_video_name}'\"\n",
        "  subprocess.run(command,shell=True)\n",
        "  print(f\"Saved to drive: /{drive_folder}/{final_video_name}\" )\n",
        "\n",
        "!rm \"{upscaled_video_path}\""
      ]
    },
    {
      "cell_type": "markdown",
      "source": [
        "# 4. Disconnect runtime"
      ],
      "metadata": {
        "id": "XydAN-xZT0AS"
      }
    },
    {
      "cell_type": "code",
      "source": [
        "from google.colab import runtime\n",
        "\n",
        "disconnect_when_finish = False  #@param{type:\"boolean\"}\n",
        "\n",
        "if disconnect_when_finish:\n",
        "  runtime.unassign()"
      ],
      "metadata": {
        "cellView": "form",
        "id": "rIfUT_e9TqLp"
      },
      "execution_count": null,
      "outputs": []
    }
  ]
}